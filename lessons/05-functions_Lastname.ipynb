{
 "cells": [
  {
   "cell_type": "markdown",
   "metadata": {},
   "source": [
    "\n",
    "\n",
    "## Writing Functions Python\n",
    "\n",
    "You have already seen how to use built-in modules (e.g. numpy) in python and the functions that accompany them. Now we will learn how to write our own functions.\n",
    "\n",
    "## Functions\n",
    "\n",
    "Functions in python are of the following form: \n",
    "```python \n",
    "def function_name(argument_1, argument_2,..., keyword_argument_1=val1, keyword_argument_2=val2, ...)\n",
    "```\n",
    "\n",
    "Where `argument_1` and `argument_2` are \"arguments\" and are required, and `keyword_argument_1` and `keyword_argument_2` are called \"keyword arguments\" and are optional. The names of python functions can be any combination of lowercase letters, numbers and underscores as long as they don't start with a number, and as long as they are not already the name of a built-in keyword (i.e. `print`). Let's look at a very simple example of a function:\n",
    "\n",
    "### First example: the `add` function\n",
    "\n",
    "Let's start with a simple function: \n",
    "```python\n",
    "def add(x, y):\n",
    "    \"\"\"This function adds x to y.\"\"\"\n",
    "    return x + y\n",
    "```\n",
    "This function adds the argument `x` to the argument `y`. You indicate that you're _defining_ a function with the `def` statement, then comes the name of the function, then (no spaces here) comes parentheses containing the arguments.\n",
    "\n",
    "The arguments `x` and `y` are symbols -- a user could call the function on variables that they define, which need not be called `x` and `y`. Here, they just define that within the function, you will refer to the first argument as `x` and the second as `y`.\n",
    "\n",
    "The `return` line needs to be indented with respect to the `def` line. Next to the word `return`, you write the result that you want the function to output.\n",
    "\n",
    "The line in triple-quotes is called a _docstring_. It is documentation, or user instructions. Most Python functions contain information in the docstring that will help you figure out how to use the function.\n",
    "\n",
    "We can now _call_ this function like so:\n",
    "```python\n",
    "def add(x, y):\n",
    "    \"\"\"This function adds x to y.\"\"\"\n",
    "    return x + y\n",
    "\n",
    "a = 5\n",
    "b = 10\n",
    "\n",
    "a_plus_b = add(a, b)\n",
    "\n",
    "print(a_plus_b)\n",
    "```\n",
    "\n",
    "_Note_ that the variables that are defined within a function (`x` and `y` in this example), cannot be accessed outside of the function. If you try to print `x` at the bottom of the code above, you'll see: \n",
    "```\n",
    "NameError: name 'x' is not defined\n",
    "```\n",
    "because the variable name `x` only exists within the function. This concept is called _scope_.\n",
    "\n",
    "### Exercise 1\n",
    "\n",
    "In the cell below, copy and paste the recipe above for addition. Modify it to multiply two numbers together, and don't forget to change the function name and docstring accordingly."
   ]
  },
  {
   "cell_type": "code",
   "execution_count": 6,
   "metadata": {},
   "outputs": [],
   "source": [
    "# Define the function here\n",
    "def mul(x, y):\n",
    "    \"\"\"This function multplies x and y.\"\"\"\n",
    "    return x*y\n",
    "\n"
   ]
  },
  {
   "cell_type": "code",
   "execution_count": 8,
   "metadata": {},
   "outputs": [
    {
     "name": "stdout",
     "output_type": "stream",
     "text": [
      "50\n"
     ]
    }
   ],
   "source": [
    "# Run the function here\n",
    "a = 5\n",
    "b = 10\n",
    "\n",
    "a_multiply_b = mul(a, b)\n",
    "\n",
    "print(a_multiply_b)"
   ]
  },
  {
   "cell_type": "markdown",
   "metadata": {},
   "source": [
    "That example is just for demonstration purposes, of course. But there are times when you want to do something more complicated. Let's now make a function that does something more complicated - one that takes a list of numbers as its argument, and returns a list of only the even numbers. \n",
    "\n",
    "```python\n",
    "def only_evens(list_of_numbers):\n",
    "    \"\"\"Take a list of numbers, and return a list of only the even numbers\"\"\"\n",
    "    \n",
    "    # This is an empty list that we'll append the even numbers onto\n",
    "    even_numbers = []\n",
    "    \n",
    "    # Go through each number in the list of numbers\n",
    "    for number in list_of_numbers:\n",
    "    \n",
    "        # If this number is an even number:\n",
    "        if number % 2 == 0:\n",
    "            \n",
    "            # Append it to the list of even numbers\n",
    "            even_numbers.append(number)\n",
    "            \n",
    "    # Then return the number\n",
    "    return even_numbers\n",
    "```\n",
    "\n",
    "### Exercise 2\n",
    "\n",
    "Copy and paste the `only_evens` function above into the cell below, and try it out using a list of numbers that you can create however you like (make it up!). Test that the function works. In the chat, give an example of the type of list of numbers you created and tested."
   ]
  },
  {
   "cell_type": "code",
   "execution_count": 1,
   "metadata": {},
   "outputs": [],
   "source": [
    "# Import numpy once at the start!\n",
    "import numpy as np\n",
    "\n",
    "# Define the function here\n",
    "\n",
    "def only_evens(list_of_numbers):\n",
    "    \"\"\"Take a list of numbers, and return a list of only the even numbers\"\"\"\n",
    "    \n",
    "    # This is an empty list that we'll append the even numbers onto\n",
    "    even_numbers = []\n",
    "    \n",
    "    # Go through each number in the list of numbers\n",
    "    for number in list_of_numbers:\n",
    "    \n",
    "        # If this number is an even number:\n",
    "        if number % 2 == 0:\n",
    "            \n",
    "            # Append it to the list of even numbers\n",
    "            even_numbers.append(number)\n",
    "            \n",
    "    # Then return the number\n",
    "    return even_numbers\n"
   ]
  },
  {
   "cell_type": "code",
   "execution_count": 2,
   "metadata": {},
   "outputs": [
    {
     "name": "stdout",
     "output_type": "stream",
     "text": [
      "[0, 2, 4, 6, 8, 10, 12, 14, 16, 18, 20, 22, 24, 26, 28, 30, 32, 34, 36, 38, 40, 42, 44, 46, 48, 50, 52, 54, 56, 58, 60, 62, 64, 66, 68, 70, 72, 74, 76, 78, 80, 82, 84, 86, 88, 90, 92, 94, 96, 98, 100, 102, 104, 106, 108, 110, 112, 114, 116, 118, 120, 122, 124, 126, 128, 130, 132, 134, 136, 138, 140, 142, 144, 146, 148, 150, 152, 154, 156, 158, 160, 162, 164, 166, 168, 170, 172, 174, 176, 178, 180, 182, 184, 186, 188, 190, 192, 194, 196, 198, 200, 202, 204, 206, 208, 210, 212, 214, 216, 218, 220, 222, 224, 226, 228, 230, 232, 234, 236, 238, 240, 242, 244, 246, 248, 250, 252, 254, 256, 258, 260, 262, 264, 266, 268, 270, 272, 274, 276, 278, 280, 282, 284, 286, 288, 290, 292, 294, 296, 298, 300, 302, 304, 306, 308, 310, 312, 314, 316, 318, 320, 322, 324, 326, 328, 330, 332, 334, 336, 338, 340, 342, 344, 346, 348, 350, 352, 354, 356, 358, 360, 362, 364, 366, 368, 370, 372, 374, 376, 378, 380, 382, 384, 386, 388, 390, 392, 394, 396, 398, 400, 402, 404, 406, 408, 410, 412, 414, 416, 418, 420, 422, 424, 426, 428, 430, 432, 434, 436, 438, 440, 442, 444, 446, 448, 450, 452, 454, 456, 458, 460, 462, 464, 466, 468, 470, 472, 474, 476, 478, 480, 482, 484, 486, 488, 490, 492, 494, 496, 498]\n"
     ]
    }
   ],
   "source": [
    "# Run the function here\n",
    "list_of_numbers = np.arange(0,500)\n",
    "even_list = only_evens(list_of_numbers)\n",
    "print(even_list)"
   ]
  },
  {
   "cell_type": "markdown",
   "metadata": {},
   "source": [
    "Now why is it useful to write a function to do this? This is helpful when you need to do the same procedure a bunch of times. If I wanted to get the even numbers out of 20 lists of numbers, I would have to re-write everything in the function above 20 individual times. However, I can call the `only_evens` function with only one line each time that I want to use it, like this:\n",
    "```python\n",
    "evens_1 = only_evens(numbers_1)\n",
    "evens_2 = only_evens(numbers_2)\n",
    "evens_3 = only_evens(numbers_3)\n",
    "...\n",
    "```\n",
    "\n",
    "### Exercise 3: `numpy` review\n",
    "\n",
    "This is a good place to remind you that when you have lists of numbers, you could turn them into numpy *arrays*, and use their special powers to do your work. In Exercise 2, you worked with a program that goes through a list of numbers to tell you which ones are even. You might recall that in the lesson on numpy, in Exercise 5 (putting it all together), we figured out which numbers were even and odd for an entire numpy array at once. \n",
    "\n",
    "Refer back to the numpy lesson, and in the cell below, re-write the `only_evens` function to use numpy, instead of a `for` loop. Call this new function `only_evens_numpy`. Run it on the list of numbers and show that it works. \n",
    "\n",
    "_Hint:_ Don't forget to import numpy, with the line\n",
    "```python\n",
    "import numpy as np\n",
    "```"
   ]
  },
  {
   "cell_type": "code",
   "execution_count": 40,
   "metadata": {},
   "outputs": [],
   "source": [
    "# Define the function here\n",
    "\n",
    "import numpy as np\n",
    "\n",
    "def only_evens_numpy(list_of_numbers):\n",
    "    \n",
    "    even_numbers = list_of_numbers[0::2]\n",
    "    \n",
    "    return even_numbers\n",
    "\n",
    "        "
   ]
  },
  {
   "cell_type": "code",
   "execution_count": 41,
   "metadata": {},
   "outputs": [
    {
     "data": {
      "text/plain": [
       "array([  0,   2,   4,   6,   8,  10,  12,  14,  16,  18,  20,  22,  24,\n",
       "        26,  28,  30,  32,  34,  36,  38,  40,  42,  44,  46,  48,  50,\n",
       "        52,  54,  56,  58,  60,  62,  64,  66,  68,  70,  72,  74,  76,\n",
       "        78,  80,  82,  84,  86,  88,  90,  92,  94,  96,  98, 100, 102,\n",
       "       104, 106, 108, 110, 112, 114, 116, 118, 120, 122, 124, 126, 128,\n",
       "       130, 132, 134, 136, 138, 140, 142, 144, 146, 148, 150, 152, 154,\n",
       "       156, 158, 160, 162, 164, 166, 168, 170, 172, 174, 176, 178, 180,\n",
       "       182, 184, 186, 188, 190, 192, 194, 196, 198, 200, 202, 204, 206,\n",
       "       208, 210, 212, 214, 216, 218, 220, 222, 224, 226, 228, 230, 232,\n",
       "       234, 236, 238, 240, 242, 244, 246, 248, 250, 252, 254, 256, 258,\n",
       "       260, 262, 264, 266, 268, 270, 272, 274, 276, 278, 280, 282, 284,\n",
       "       286, 288, 290, 292, 294, 296, 298, 300, 302, 304, 306, 308, 310,\n",
       "       312, 314, 316, 318, 320, 322, 324, 326, 328, 330, 332, 334, 336,\n",
       "       338, 340, 342, 344, 346, 348, 350, 352, 354, 356, 358, 360, 362,\n",
       "       364, 366, 368, 370, 372, 374, 376, 378, 380, 382, 384, 386, 388,\n",
       "       390, 392, 394, 396, 398, 400, 402, 404, 406, 408, 410, 412, 414,\n",
       "       416, 418, 420, 422, 424, 426, 428, 430, 432, 434, 436, 438, 440,\n",
       "       442, 444, 446, 448, 450, 452, 454, 456, 458, 460, 462, 464, 466,\n",
       "       468, 470, 472, 474, 476, 478, 480, 482, 484, 486, 488, 490, 492,\n",
       "       494, 496, 498])"
      ]
     },
     "execution_count": 41,
     "metadata": {},
     "output_type": "execute_result"
    }
   ],
   "source": [
    "# Run the function here\n",
    "list_of_numbers = np.arange(500)\n",
    "only_evens_numpy(list_of_numbers)"
   ]
  },
  {
   "cell_type": "markdown",
   "metadata": {},
   "source": [
    "One of the questions you might be asking yourself is: \"why do we use numpy if we can just write the functions ourselves?\" One reason is that it's usually faster to write these operations with numpy (see above, the numpy version has fewer lines of code).\n",
    "\n",
    "The real reason is that **numpy is way faster** than pure Python without numpy. Let's demonstrate that here.\n",
    "\n",
    "### Exercise 4: Timing Your Code\n",
    "\n",
    "We're going to use a function in numpy to make a really big list of numbers for this exercise. In the cell below, execute: \n",
    "```python\n",
    "lots_of_numbers = np.random.randint(0, 100, 100000)\n",
    "print(lots_of_numbers)\n",
    "```\n",
    "That will create an array of 100,000 random numbers between zero and 100.\n",
    "\n",
    "We're now going to run our two `only_even` and `only_even_numpy` functions on `lots_of_numbers`, to see which one is fastest. To time a function in an iPython Notebook, you use the `%timeit` magic function, like this:\n",
    "```python\n",
    "%timeit only_evens(lots_of_numbers)\n",
    "%timeit only_evens_numpy(lots_of_numbers)\n",
    "```\n",
    "The output tells you how long it takes to run each function (usually in units of ms=milliseconds). \n",
    "\n",
    "How much faster is the numpy version? (This is why we use numpy!)"
   ]
  },
  {
   "cell_type": "code",
   "execution_count": 27,
   "metadata": {},
   "outputs": [
    {
     "name": "stdout",
     "output_type": "stream",
     "text": [
      "[28 60 32 ... 54 27 83]\n"
     ]
    }
   ],
   "source": [
    "# Create array with lots of random numbers\n",
    "lots_of_numbers = np.random.randint(0, 100, 100000)\n",
    "print(lots_of_numbers)"
   ]
  },
  {
   "cell_type": "code",
   "execution_count": 42,
   "metadata": {},
   "outputs": [
    {
     "name": "stdout",
     "output_type": "stream",
     "text": [
      "30.3 ms ± 306 µs per loop (mean ± std. dev. of 7 runs, 10 loops each)\n",
      "211 ns ± 1.98 ns per loop (mean ± std. dev. of 7 runs, 1000000 loops each)\n"
     ]
    }
   ],
   "source": [
    "# Run %timeit on each function!\n",
    "%timeit only_evens(lots_of_numbers)\n",
    "%timeit only_evens_numpy(lots_of_numbers)"
   ]
  },
  {
   "cell_type": "markdown",
   "metadata": {},
   "source": [
    "### Exercise 5: Modules\n",
    "\n",
    "Let's say `only_evens` and `only_evens_numpy` were complicated functions that took hundreds of lines of code to write. You might want to keep them in their own Python script (their own file), and _import_ them into the notebook where you use them. In this exercise, we'll practice doing that.\n",
    "\n",
    "1. Go back to the tab in your web browser with the list of files (where you opened this notebook)\n",
    "2. Create a new text file by clicking New at the top right of the window and selecting text file.\n",
    "3. Name the file `mymodule.py`.\n",
    "4. Write `import numpy as np` as the first line of your file. Then copy the function definitions for `only_evens` and `only_evens_numpy` into your file.\n",
    "5. Save the file the same way you save your Jupyter notebooks.\n",
    "6. Go back to this Jupyter notebook and in the cell below, run `import mymodule` to import the functions from your _module_ into this python script. *Note: If you make edits to your mymodule.py file after you import it into this notebook, you will need to restart the notebook and import it again for the changes to be recognized.*\n",
    "5. You can now run each function by calling `mymodule.only_evens` or `mymodule.only_evens_numpy` in this notebook. Try that below: "
   ]
  },
  {
   "cell_type": "code",
   "execution_count": 47,
   "metadata": {},
   "outputs": [],
   "source": [
    "# Import your modules here\n",
    "import mymodule\n"
   ]
  },
  {
   "cell_type": "code",
   "execution_count": 50,
   "metadata": {},
   "outputs": [
    {
     "data": {
      "text/plain": [
       "[0,\n",
       " 2,\n",
       " 4,\n",
       " 6,\n",
       " 8,\n",
       " 10,\n",
       " 12,\n",
       " 14,\n",
       " 16,\n",
       " 18,\n",
       " 20,\n",
       " 22,\n",
       " 24,\n",
       " 26,\n",
       " 28,\n",
       " 30,\n",
       " 32,\n",
       " 34,\n",
       " 36,\n",
       " 38,\n",
       " 40,\n",
       " 42,\n",
       " 44,\n",
       " 46,\n",
       " 48,\n",
       " 50,\n",
       " 52,\n",
       " 54,\n",
       " 56,\n",
       " 58,\n",
       " 60,\n",
       " 62,\n",
       " 64,\n",
       " 66,\n",
       " 68,\n",
       " 70,\n",
       " 72,\n",
       " 74,\n",
       " 76,\n",
       " 78,\n",
       " 80,\n",
       " 82,\n",
       " 84,\n",
       " 86,\n",
       " 88,\n",
       " 90,\n",
       " 92,\n",
       " 94,\n",
       " 96,\n",
       " 98,\n",
       " 100,\n",
       " 102,\n",
       " 104,\n",
       " 106,\n",
       " 108,\n",
       " 110,\n",
       " 112,\n",
       " 114,\n",
       " 116,\n",
       " 118,\n",
       " 120,\n",
       " 122,\n",
       " 124,\n",
       " 126,\n",
       " 128,\n",
       " 130,\n",
       " 132,\n",
       " 134,\n",
       " 136,\n",
       " 138,\n",
       " 140,\n",
       " 142,\n",
       " 144,\n",
       " 146,\n",
       " 148,\n",
       " 150,\n",
       " 152,\n",
       " 154,\n",
       " 156,\n",
       " 158,\n",
       " 160,\n",
       " 162,\n",
       " 164,\n",
       " 166,\n",
       " 168,\n",
       " 170,\n",
       " 172,\n",
       " 174,\n",
       " 176,\n",
       " 178,\n",
       " 180,\n",
       " 182,\n",
       " 184,\n",
       " 186,\n",
       " 188,\n",
       " 190,\n",
       " 192,\n",
       " 194,\n",
       " 196,\n",
       " 198,\n",
       " 200,\n",
       " 202,\n",
       " 204,\n",
       " 206,\n",
       " 208,\n",
       " 210,\n",
       " 212,\n",
       " 214,\n",
       " 216,\n",
       " 218,\n",
       " 220,\n",
       " 222,\n",
       " 224,\n",
       " 226,\n",
       " 228,\n",
       " 230,\n",
       " 232,\n",
       " 234,\n",
       " 236,\n",
       " 238,\n",
       " 240,\n",
       " 242,\n",
       " 244,\n",
       " 246,\n",
       " 248,\n",
       " 250,\n",
       " 252,\n",
       " 254,\n",
       " 256,\n",
       " 258,\n",
       " 260,\n",
       " 262,\n",
       " 264,\n",
       " 266,\n",
       " 268,\n",
       " 270,\n",
       " 272,\n",
       " 274,\n",
       " 276,\n",
       " 278,\n",
       " 280,\n",
       " 282,\n",
       " 284,\n",
       " 286,\n",
       " 288,\n",
       " 290,\n",
       " 292,\n",
       " 294,\n",
       " 296,\n",
       " 298,\n",
       " 300,\n",
       " 302,\n",
       " 304,\n",
       " 306,\n",
       " 308,\n",
       " 310,\n",
       " 312,\n",
       " 314,\n",
       " 316,\n",
       " 318,\n",
       " 320,\n",
       " 322,\n",
       " 324,\n",
       " 326,\n",
       " 328,\n",
       " 330,\n",
       " 332,\n",
       " 334,\n",
       " 336,\n",
       " 338,\n",
       " 340,\n",
       " 342,\n",
       " 344,\n",
       " 346,\n",
       " 348,\n",
       " 350,\n",
       " 352,\n",
       " 354,\n",
       " 356,\n",
       " 358,\n",
       " 360,\n",
       " 362,\n",
       " 364,\n",
       " 366,\n",
       " 368,\n",
       " 370,\n",
       " 372,\n",
       " 374,\n",
       " 376,\n",
       " 378,\n",
       " 380,\n",
       " 382,\n",
       " 384,\n",
       " 386,\n",
       " 388,\n",
       " 390,\n",
       " 392,\n",
       " 394,\n",
       " 396,\n",
       " 398,\n",
       " 400,\n",
       " 402,\n",
       " 404,\n",
       " 406,\n",
       " 408,\n",
       " 410,\n",
       " 412,\n",
       " 414,\n",
       " 416,\n",
       " 418,\n",
       " 420,\n",
       " 422,\n",
       " 424,\n",
       " 426,\n",
       " 428,\n",
       " 430,\n",
       " 432,\n",
       " 434,\n",
       " 436,\n",
       " 438,\n",
       " 440,\n",
       " 442,\n",
       " 444,\n",
       " 446,\n",
       " 448,\n",
       " 450,\n",
       " 452,\n",
       " 454,\n",
       " 456,\n",
       " 458,\n",
       " 460,\n",
       " 462,\n",
       " 464,\n",
       " 466,\n",
       " 468,\n",
       " 470,\n",
       " 472,\n",
       " 474,\n",
       " 476,\n",
       " 478,\n",
       " 480,\n",
       " 482,\n",
       " 484,\n",
       " 486,\n",
       " 488,\n",
       " 490,\n",
       " 492,\n",
       " 494,\n",
       " 496,\n",
       " 498]"
      ]
     },
     "execution_count": 50,
     "metadata": {},
     "output_type": "execute_result"
    }
   ],
   "source": [
    "# Run one of the functions in your module\n",
    "list_of_numbers = np.arange(500)\n",
    "only_evens(list_of_numbers)"
   ]
  },
  {
   "cell_type": "markdown",
   "metadata": {},
   "source": [
    "That's how every Python package is written – it's Python code that you *import* into your notebook or scripts."
   ]
  },
  {
   "cell_type": "markdown",
   "metadata": {},
   "source": [
    "### Exercise 6: The Demogorgon Appears\n",
    "\n",
    "[Watch the kids from the Stranger Things face off against the Demogorgon.](https://www.youtube.com/watch?v=A4fwA4-yNkk&ab_channel=StrangerThings)\n",
    "*Start to 45 seconds.*\n",
    "\n",
    "Create a function that takes an input *argument*, which will be a string containing the attempted dice roll against the Demogorgon in DnD. The function will *return* the result of roll. \n",
    "\n",
    "Here's one example: \n",
    "\n",
    "```python\n",
    "def demogorgon_battle(dice_roll):\n",
    "    \"\"\"This function returns the result of an attempted dice roll.\"\"\"\n",
    "\n",
    "    if dice_roll > 20:\n",
    "        result = \"Hey! No n-dimensional dice!\"\n",
    "    elif dice_roll == 20:\n",
    "        result = \"You slay the demogorgon!!\"\n",
    "    elif dice_roll > 15:\n",
    "        result = \"You get a good hit on the demogorgon with your sword and it slinks away.\"\n",
    "    elif dice_roll > 10:\n",
    "        result = \"The demogorgon and you are evenly matched. You retreat to get stronger weapons.\"\n",
    "    elif dice_roll > 5:\n",
    "        result = \"The demogorgon slashes you with a claw! You run away!\"\n",
    "    else: \n",
    "        result = \"THE DEMIGORGON EATS YOU.\"\n",
    "\n",
    "    return result\n",
    "\n",
    "dice_roll = 17\n",
    "battle_outcome = demogorgon_battle(dice_roll)\n",
    "print(battle_outcome)\n",
    "```\n",
    "```\n",
    "You get a good hit on the demogorgon with your sword and it slinks away.\n",
    "```\n",
    "\n",
    "Get creative and make your own function, and test that it produces the appropriate output."
   ]
  },
  {
   "cell_type": "code",
   "execution_count": 70,
   "metadata": {},
   "outputs": [
    {
     "name": "stdout",
     "output_type": "stream",
     "text": [
      "You're nearly dead. Time to run away!\n"
     ]
    }
   ],
   "source": [
    "# Write your own function!\n",
    "def end_boss(number_of_lasers):\n",
    "    \"\"\"This function tells you if you can beat the boss with the current amount of lasers you're carrying.\"\"\"\n",
    "\n",
    "    if number_of_lasers > 10:\n",
    "        result = \"Hey! You have more lasers than the gun can hold\"\n",
    "    elif number_of_lasers == 10:\n",
    "        result = \"You won the game!!\"\n",
    "    elif number_of_lasers > 5:\n",
    "        result = \"You and the end boss are evenly matched \"\n",
    "    elif number_of_lasers > 2:\n",
    "        result = \"You're nearly dead. Time to run away!\"\n",
    "    else: \n",
    "        result = \"GAME OVER\"\n",
    "\n",
    "    return result\n",
    "\n",
    "number_of_lasers = 3\n",
    "battle_outcome = end_boss(number_of_lasers)\n",
    "print(battle_outcome)"
   ]
  },
  {
   "cell_type": "markdown",
   "metadata": {},
   "source": [
    "### Exercise 7: Stars, Magnitudes, Oh my\n",
    "\n",
    "In this next example, you'll write a function that converts brightness measurements of stars in *magnitudes* to *solar luminosities* ($L_{\\odot}$). \n",
    "\n",
    "The magnitude system in astronomy derives from a system devised by ancient Greeks (Hipparcus, in particular), who catalogued the brightnesses of stars visually with their eyes. The magnitude system, like the Richter scale for earthquakes or the decibel scale for sound, is a *logarithmic* scale that measures the brightness of astronomical objects. Because of this strange convention, the smaller the value is in magnitude, the brighter an object is: e.g., a -1.5 magnitude star is brighter than a +2 magnitude star. An increase in magnitude by 2.5 means an object is a factor of 10 dimmer.\n",
    "\n",
    "Flux (W/m$^2$, or power per unit area) is a unit of measurement you're familiar with for measuring the brightness of objects; the solar flux, or how bright the sun is at Earth's distance, is 1377 W/m$^2$. \n",
    "\n",
    "Converting between magnitude and flux is easy, although perhaps not intuitive. If two stars have fluxes $F_A$ and $F_B$, their magnitudes $m_A$ and $m_B$ can be related via:\n",
    "\n",
    "$m_A - m_B = -2.5 \\log (F_A/F_B)$\n",
    "\n",
    "If the sun has an apparent magnitude of -26.8 and flux of 1377 W/m$^2$, write a function that returns the magnitude of a mystery object, given an input of its flux. It should have the structure of something like this:\n",
    "\n",
    "```python\n",
    "def flux_to_magnitude(mystery_flux):\n",
    "    \"\"\"This function returns the magnitude of an object given its flux.\"\"\"\n",
    "    \n",
    "    ## Do some awesome coding here\n",
    "\n",
    "    return #the magnitude!\n",
    "```\n",
    "\n",
    "What is brightness of a 100-Watt light bulb when seen from a distance of 10 meters, in magnitudes? <br>\n",
    "(Note: First you'll have to convert power (W) to flux (W/m^2) by dividing the power in Watts by the surface area of a sphere with a radius of 10m)<br>\n",
    "(Second Note: The surface area of a sphere is $4\\times pi \\times radius^{2}$) <br>\n",
    "(Third note: the `log` in the equation above is log base 10, not natural log. If you just use the `np.log()` function, it will assume a natural log. To specify log base 10 you need to use the `np.log10()` function.)"
   ]
  },
  {
   "cell_type": "code",
   "execution_count": 1,
   "metadata": {},
   "outputs": [],
   "source": [
    "import numpy as np "
   ]
  },
  {
   "cell_type": "code",
   "execution_count": 71,
   "metadata": {},
   "outputs": [],
   "source": [
    "# Define the function\n",
    "def flux_to_magnitude(mystery_flux):\n",
    "    \"\"\"This function returns the magnitude of an object given its flux.\"\"\"\n",
    "    \n",
    "    Ma = -26.8 - 2.5*np.log(mystery_flux/1377)\n",
    "    return Ma \n",
    "    \n",
    "#the magnitude!\n",
    "\n",
    "def power_to_flux(radius,output):\n",
    "    flux = output/(4*np.pi*np.power(radius,2))\n",
    "    return flux\n"
   ]
  },
  {
   "cell_type": "code",
   "execution_count": 72,
   "metadata": {},
   "outputs": [
    {
     "name": "stdout",
     "output_type": "stream",
     "text": [
      "0.07957747154594767\n"
     ]
    },
    {
     "data": {
      "text/plain": [
       "-2.4032831357551387"
      ]
     },
     "execution_count": 72,
     "metadata": {},
     "output_type": "execute_result"
    }
   ],
   "source": [
    "# Run the function\n",
    "flux = power_to_flux(10,100)\n",
    "print(flux)\n",
    "flux_to_magnitude(0.07957747154594767)"
   ]
  },
  {
   "cell_type": "markdown",
   "metadata": {},
   "source": [
    "### Exercise 8: Reverse, reverse!\n",
    "\n",
    "Now let's do the reverse of what we did in exercise 7. Knowing the magnitude of an object, write a function that returns its flux, compared to the sun (i.e., $F_{\\mathrm{mystery}}/F_{\\odot}$). Hint, you'll have to do a bit of algebra to rewrite the formula in exercise 7. \n",
    "\n",
    "The base of your function should look something like this:\n",
    "\n",
    "```Python\n",
    "def flux_to_magnitude(mystery_magnitude):\n",
    "    \"\"\"This function returns the brightness of object in units of solar flux, given an input magnitude\"\"\"\n",
    "    \n",
    "    ## Serious coding here\n",
    "    \n",
    "    return ##the flux!\n",
    "```\n",
    "\n",
    "Here's a handy table of apparent magnitudes of a few notable objects in the night sky, using the function you wrote, what are their brightnesses in units of solar flux? \n",
    "\n",
    "| Object | Apparent Magnitude   |\n",
    "|------|------|\n",
    "|   Sun  | -26.8|\n",
    "| Sirius | -1.47|\n",
    "|Deneb |1.26|\n",
    "|Altair |0.77|\n",
    "|Betegeuse |0.45|\n",
    "|Vega |0.03|\n",
    "|Arcturus |-0.06|\n",
    "|Canopus| -0.72|\n"
   ]
  },
  {
   "cell_type": "code",
   "execution_count": 40,
   "metadata": {},
   "outputs": [],
   "source": [
    "def magnitude_to_flux(mystery_mag):\n",
    "    mystery_flux_over_sun_flux = np.exp(-(mystery_mag-26.8)/(2.5))\n",
    "    return mystery_flux_over_sun_flux"
   ]
  },
  {
   "cell_type": "code",
   "execution_count": 41,
   "metadata": {
    "scrolled": true
   },
   "outputs": [
    {
     "data": {
      "text/plain": [
       "81470.80384363273"
      ]
     },
     "execution_count": 41,
     "metadata": {},
     "output_type": "execute_result"
    }
   ],
   "source": [
    "magnitude_to_flux(-0.7)"
   ]
  },
  {
   "cell_type": "code",
   "execution_count": 65,
   "metadata": {},
   "outputs": [],
   "source": []
  },
  {
   "cell_type": "code",
   "execution_count": null,
   "metadata": {},
   "outputs": [],
   "source": []
  }
 ],
 "metadata": {
  "anaconda-cloud": {},
  "kernelspec": {
   "display_name": "Python 3",
   "language": "python",
   "name": "python3"
  },
  "language_info": {
   "codemirror_mode": {
    "name": "ipython",
    "version": 3
   },
   "file_extension": ".py",
   "mimetype": "text/x-python",
   "name": "python",
   "nbconvert_exporter": "python",
   "pygments_lexer": "ipython3",
   "version": "3.8.8"
  }
 },
 "nbformat": 4,
 "nbformat_minor": 4
}
